{
  "nbformat": 4,
  "nbformat_minor": 0,
  "metadata": {
    "colab": {
      "provenance": []
    },
    "kernelspec": {
      "name": "python3",
      "display_name": "Python 3"
    },
    "language_info": {
      "name": "python"
    }
  },
  "cells": [
    {
      "cell_type": "markdown",
      "source": [
        "## Условие 2\n",
        "На складе лежат разные фрукты в разном количестве.\n",
        "Нужно написать функцию, которая на вход принимает любое количество названий фруктов и их количество, а возвращает общее количество фруктов на складе"
      ],
      "metadata": {
        "id": "j1pOxxyN33OR"
      }
    },
    {
      "cell_type": "code",
      "source": [
        "def sum_fruits(**fruits):\n",
        "  return print(f'общее количество фруктов: {sum(fruits.values())}')\n",
        "\n",
        "\n",
        ""
      ],
      "metadata": {
        "id": "SaXnCwgH4TaJ"
      },
      "execution_count": 16,
      "outputs": []
    },
    {
      "cell_type": "code",
      "source": [
        "sum_fruits(apples=5, peaches=7)\n"
      ],
      "metadata": {
        "colab": {
          "base_uri": "https://localhost:8080/"
        },
        "id": "17p2w0js6UyD",
        "outputId": "fc6eb5be-3d29-45e7-f372-965e4b65b8c6"
      },
      "execution_count": 17,
      "outputs": [
        {
          "output_type": "stream",
          "name": "stdout",
          "text": [
            "общее количество фруктов: 12\n"
          ]
        }
      ]
    },
    {
      "cell_type": "markdown",
      "source": [
        "## Условие 3\n",
        "Дан список с затратами на рекламу. Но в данных есть ошибки, некоторые затраты имеют отрицательную величину. Удалите такие значения из списка и посчитайте суммарные затраты\n",
        "Используйте list comprehensions"
      ],
      "metadata": {
        "id": "rT7CYZuJ-ZUk"
      }
    },
    {
      "cell_type": "code",
      "source": [
        "expenses = [100, 125, -90, 345, 655, -1, 0, 200]"
      ],
      "metadata": {
        "id": "fOssaqVY-iVa"
      },
      "execution_count": 19,
      "outputs": []
    },
    {
      "cell_type": "code",
      "source": [
        "right_expenses = [i for i in expenses if i >= 0]\n",
        "print(f'Исправленный список: {right_expenses}')\n",
        "print(f'Суммарные затраты: {sum(right_expenses)}')\n"
      ],
      "metadata": {
        "colab": {
          "base_uri": "https://localhost:8080/"
        },
        "id": "Fd503maB_QY-",
        "outputId": "790d8ded-2b40-40aa-a49c-fa49cbc0144a"
      },
      "execution_count": 21,
      "outputs": [
        {
          "output_type": "stream",
          "name": "stdout",
          "text": [
            "Исправленный список: [100, 125, 345, 655, 0, 200]\n",
            "Суммарные затраты: 1425\n"
          ]
        }
      ]
    },
    {
      "cell_type": "markdown",
      "source": [
        "## Условие 4.\n",
        "Даны 2 списка\n",
        "### 4.1 Найдите, какая выручка у компании в ноябре\n",
        "Используйте list comprehensions"
      ],
      "metadata": {
        "id": "x2SK-yDVA1fV"
      }
    },
    {
      "cell_type": "code",
      "source": [
        "dates = ['2021-09-14', '2021-12-15', '2021-09-08', '2021-12-05', '2021-10-09', '2021-09-30', '2021-12-22', '2021-11-29', '2021-12-24', '2021-11-26', '2021-10-27', '2021-12-18', '2021-11-09', '2021-11-23', '2021-09-27', '2021-10-02', '2021-12-27', '2021-09-20', '2021-12-13', '2021-11-01', '2021-11-09', '2021-12-06', '2021-12-08', '2021-10-09', '2021-10-31', '2021-09-30', '2021-11-09', '2021-12-13', '2021-10-26', '2021-12-09']"
      ],
      "metadata": {
        "id": "s7DvRKJbBFze"
      },
      "execution_count": 22,
      "outputs": []
    },
    {
      "cell_type": "code",
      "source": [
        "sums = [1270, 8413, 9028, 3703, 5739, 4095, 295, 4944, 5723, 3701, 4471, 651, 7037, 4274, 6275, 4988, 6930, 2971, 6592, 2004, 2822, 519, 3406, 2732, 5015, 2008, 316, 6333, 5700, 2887]"
      ],
      "metadata": {
        "id": "fWtAEhXdBR9K"
      },
      "execution_count": 23,
      "outputs": []
    },
    {
      "cell_type": "code",
      "source": [
        "months = [i.split('-')[1] for i in dates]\n",
        "print(months)"
      ],
      "metadata": {
        "colab": {
          "base_uri": "https://localhost:8080/"
        },
        "id": "zOwzxyIpBaMf",
        "outputId": "9fbd4ff3-288b-48f4-a318-63542e6c340a"
      },
      "execution_count": 29,
      "outputs": [
        {
          "output_type": "stream",
          "name": "stdout",
          "text": [
            "['09', '12', '09', '12', '10', '09', '12', '11', '12', '11', '10', '12', '11', '11', '09', '10', '12', '09', '12', '11', '11', '12', '12', '10', '10', '09', '11', '12', '10', '12']\n"
          ]
        }
      ]
    },
    {
      "cell_type": "code",
      "source": [
        "nov_revenue = [(f'Месяц {months[i]}', f'Сумма {sums[j]}')\n",
        "                for i in range(len(months))\n",
        "                for j in range(len(sums))\n",
        "                if i == j and months[i] == '11'\n",
        "                ]"
      ],
      "metadata": {
        "id": "_ADFe3g6CjuM"
      },
      "execution_count": 32,
      "outputs": []
    },
    {
      "cell_type": "code",
      "source": [
        "nov_revenue"
      ],
      "metadata": {
        "colab": {
          "base_uri": "https://localhost:8080/"
        },
        "id": "qY5f9LRRE4MX",
        "outputId": "91149ee4-8179-4ebf-95dc-a3869d64e110"
      },
      "execution_count": 33,
      "outputs": [
        {
          "output_type": "execute_result",
          "data": {
            "text/plain": [
              "[('Месяц 11', 'Сумма 4944'),\n",
              " ('Месяц 11', 'Сумма 3701'),\n",
              " ('Месяц 11', 'Сумма 7037'),\n",
              " ('Месяц 11', 'Сумма 4274'),\n",
              " ('Месяц 11', 'Сумма 2004'),\n",
              " ('Месяц 11', 'Сумма 2822'),\n",
              " ('Месяц 11', 'Сумма 316')]"
            ]
          },
          "metadata": {},
          "execution_count": 33
        }
      ]
    },
    {
      "cell_type": "code",
      "source": [
        "print(nov_revenue[0][0], f'выручка составила: {sum([amount for date, amount in zip(dates, sums) if date[5:7] == \"11\"])}')"
      ],
      "metadata": {
        "colab": {
          "base_uri": "https://localhost:8080/"
        },
        "id": "Uhx-4hCIFNTH",
        "outputId": "1ec238e7-fc2f-4b59-afbf-c8317f3257d1"
      },
      "execution_count": 39,
      "outputs": [
        {
          "output_type": "stream",
          "name": "stdout",
          "text": [
            "Месяц 11 выручка составила: 25098\n"
          ]
        }
      ]
    },
    {
      "cell_type": "markdown",
      "source": [
        "### 4.2 Найдите выручку компании в зависимости от месяца\n",
        "Для этого напишите функцию, которая на вход принимает список с датами и список с выручкой, а на выходе словарь, где ключи - это месяцы, а значения - это выручка.\n",
        "Используйте аннотирование типов."
      ],
      "metadata": {
        "id": "05a2lkJdH_xH"
      }
    },
    {
      "cell_type": "code",
      "source": [
        "def revenue_by_month(date: list, sum: list) -> dict:\n",
        "  dict_month = {}\n",
        "  for i in range(len(dates)):\n",
        "    if date[i].split('-')[1] in dict_month.keys():\n",
        "      dict_month[date[i].split('-')[1]] += sum[i]\n",
        "    else:\n",
        "      dict_month[date[i].split('-')[1]] = sum[i]\n",
        "  return dict_month\n",
        "\n"
      ],
      "metadata": {
        "id": "oFfLkrHgIFQz"
      },
      "execution_count": 42,
      "outputs": []
    },
    {
      "cell_type": "code",
      "source": [
        "revenue_by_month(dates, sums)"
      ],
      "metadata": {
        "colab": {
          "base_uri": "https://localhost:8080/"
        },
        "id": "SDXD1f_OSB7d",
        "outputId": "f485d06a-891f-4c3c-e183-f3fa5fe08b99"
      },
      "execution_count": 43,
      "outputs": [
        {
          "output_type": "execute_result",
          "data": {
            "text/plain": [
              "{'09': 25647, '12': 45452, '10': 28645, '11': 25098}"
            ]
          },
          "metadata": {},
          "execution_count": 43
        }
      ]
    }
  ]
}